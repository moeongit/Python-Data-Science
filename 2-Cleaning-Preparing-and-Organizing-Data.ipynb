{
  "nbformat": 4,
  "nbformat_minor": 0,
  "metadata": {
    "kernelspec": {
      "display_name": "Python 3",
      "language": "python",
      "name": "python3"
    },
    "language_info": {
      "codemirror_mode": {
        "name": "ipython",
        "version": 3
      },
      "file_extension": ".py",
      "mimetype": "text/x-python",
      "name": "python",
      "nbconvert_exporter": "python",
      "pygments_lexer": "ipython3",
      "version": "3.7.6"
    },
    "colab": {
      "name": "2-Cleaning-Preparing-and-Organizing-Data.ipynb",
      "provenance": []
    }
  },
  "cells": [
    {
      "cell_type": "markdown",
      "metadata": {
        "id": "eI1ZTE7g4wUw"
      },
      "source": [
        "# Python and Data Analysis 2 - Cleaning, Preparing, and Organizing Data\n",
        "\n",
        "**Goal:** The goal of this project is to learn to prepare data for analysis using Pandas.\n",
        "\n",
        "**Description:** Data often needs to be organized, combined, or cleaned before performing analysis. This project explains a few key ways to accomplish this."
      ]
    },
    {
      "cell_type": "markdown",
      "metadata": {
        "id": "zyczLpqt4wUx"
      },
      "source": [
        "## 2A: Preparing and Cleaning Data"
      ]
    },
    {
      "cell_type": "markdown",
      "metadata": {
        "id": "Q__zQolC4wUy"
      },
      "source": [
        "Data *cleaning* refers to the process of ensuring our data is correct and complete. If data is not cleaned, our analysis could produce incorrect results based on corrupt/garbage information. *Preparation* refers to getting our data ready for analysis by putting it into a format we can easily understand."
      ]
    },
    {
      "cell_type": "markdown",
      "metadata": {
        "id": "uZOrnAM-4wUz"
      },
      "source": [
        "### Removing Garbage Data"
      ]
    },
    {
      "cell_type": "markdown",
      "metadata": {
        "id": "k6got9g_4wUz"
      },
      "source": [
        "*Garbage data* depends on the type of data we are representing. One common example is if we have a DataFrame with inconsistent types in its columns."
      ]
    },
    {
      "cell_type": "code",
      "metadata": {
        "id": "fVZWH7wq4wU0",
        "outputId": "ce28e6d3-ff62-4449-f99c-ac0d4a750ccc",
        "colab": {
          "base_uri": "https://localhost:8080/"
        }
      },
      "source": [
        "import pandas as pd\n",
        "\n",
        "df = pd.DataFrame({'x': [1,'more garbage',3,4,5,6,7,8,9,10],\n",
        "                  'y': [1,4,9,16,25,36,49,64,'garbage',100]})\n",
        "print(df)"
      ],
      "execution_count": 54,
      "outputs": [
        {
          "output_type": "stream",
          "text": [
            "              x        y\n",
            "0             1        1\n",
            "1  more garbage        4\n",
            "2             3        9\n",
            "3             4       16\n",
            "4             5       25\n",
            "5             6       36\n",
            "6             7       49\n",
            "7             8       64\n",
            "8             9  garbage\n",
            "9            10      100\n"
          ],
          "name": "stdout"
        }
      ]
    },
    {
      "cell_type": "markdown",
      "metadata": {
        "id": "1MccrLUF4wU6"
      },
      "source": [
        "Clearly, we want `x` and `y` to contain numerical values. Therefore rows 1 and 8 contain garbage data. We can try converting them to numbers to fix this."
      ]
    },
    {
      "cell_type": "code",
      "metadata": {
        "id": "wOmqDYpC4wU7",
        "outputId": "5c59b97e-ba8e-4daa-f47f-c90fefb78999",
        "colab": {
          "base_uri": "https://localhost:8080/"
        }
      },
      "source": [
        "df = df.apply(pd.to_numeric, errors='coerce') # Go through the DataFrame and force every value to be a number\n",
        "print(df)"
      ],
      "execution_count": 55,
      "outputs": [
        {
          "output_type": "stream",
          "text": [
            "      x      y\n",
            "0   1.0    1.0\n",
            "1   NaN    4.0\n",
            "2   3.0    9.0\n",
            "3   4.0   16.0\n",
            "4   5.0   25.0\n",
            "5   6.0   36.0\n",
            "6   7.0   49.0\n",
            "7   8.0   64.0\n",
            "8   9.0    NaN\n",
            "9  10.0  100.0\n"
          ],
          "name": "stdout"
        }
      ]
    },
    {
      "cell_type": "markdown",
      "metadata": {
        "id": "my68qjHe4wU-"
      },
      "source": [
        "Notice the strings have been replaced `NaN`. This is a special value considered to be a `float`, so it is consistent with the other numerical values in its respective column. However, when NaN is involved in a calculation, it results in NaN output. Therefore, we typically want to remove these values."
      ]
    },
    {
      "cell_type": "code",
      "metadata": {
        "id": "txdoynHn4wU_",
        "outputId": "2082db6f-3744-468b-c1c8-7caa958e50f0",
        "colab": {
          "base_uri": "https://localhost:8080/"
        }
      },
      "source": [
        "# NaN + 4 = NaN\n",
        "print(df.iloc[1,0] + df.iloc[1,1]) # Add the x value from row 1 (NaN) to the y value from row 1 (4)"
      ],
      "execution_count": 56,
      "outputs": [
        {
          "output_type": "stream",
          "text": [
            "nan\n"
          ],
          "name": "stdout"
        }
      ]
    },
    {
      "cell_type": "markdown",
      "metadata": {
        "id": "U0Xj6ivK4wVC"
      },
      "source": [
        "We can remove `NaN` values in two ways. If we want to completely delete the row containing the NaN, we can use `dropna()`. If we want to replace the NaN with some constant value, we can use `fillna(replacement_value)`. The first example removes rows with NaN, and the second example replaces the NaNs with the value 0. "
      ]
    },
    {
      "cell_type": "code",
      "metadata": {
        "id": "pvGDhh444wVC",
        "outputId": "4be3934b-f752-4a79-ea22-54186606c201",
        "colab": {
          "base_uri": "https://localhost:8080/"
        }
      },
      "source": [
        "df1 = df.dropna()\n",
        "print(\"Dropping NaNs\")\n",
        "print(df1)\n",
        "\n",
        "df2 = df.fillna(0)\n",
        "print(\"\\nFilling NaNs\")\n",
        "print(df2)"
      ],
      "execution_count": 57,
      "outputs": [
        {
          "output_type": "stream",
          "text": [
            "Dropping NaNs\n",
            "      x      y\n",
            "0   1.0    1.0\n",
            "2   3.0    9.0\n",
            "3   4.0   16.0\n",
            "4   5.0   25.0\n",
            "5   6.0   36.0\n",
            "6   7.0   49.0\n",
            "7   8.0   64.0\n",
            "9  10.0  100.0\n",
            "\n",
            "Filling NaNs\n",
            "      x      y\n",
            "0   1.0    1.0\n",
            "1   0.0    4.0\n",
            "2   3.0    9.0\n",
            "3   4.0   16.0\n",
            "4   5.0   25.0\n",
            "5   6.0   36.0\n",
            "6   7.0   49.0\n",
            "7   8.0   64.0\n",
            "8   9.0    0.0\n",
            "9  10.0  100.0\n"
          ],
          "name": "stdout"
        }
      ]
    },
    {
      "cell_type": "markdown",
      "metadata": {
        "id": "B8fRYFaY4wVF"
      },
      "source": [
        "### Preparing Data\n",
        "\n",
        "#### Dropping Columns\n",
        "When getting data ready for analysis, we might want to select subsections of our data and crop out the rest. For example, let's say we are interested in the `date`, `close` and `volume` for Microsoft stock. Using the techniques discussed earlier, we can do the following."
      ]
    },
    {
      "cell_type": "code",
      "metadata": {
        "id": "cYNdn3Qd4wVF",
        "outputId": "91e0ca51-fc05-4cf1-bfbc-e1ce99c442d3",
        "colab": {
          "base_uri": "https://localhost:8080/"
        }
      },
      "source": [
        "df = pd.read_csv('MSFT.csv')\n",
        "df = df[['date', 'close', 'volume']]\n",
        "print(df.head())"
      ],
      "execution_count": 58,
      "outputs": [
        {
          "output_type": "stream",
          "text": [
            "         date   close      volume\n",
            "0  1986-03-13  0.0972  1031788800\n",
            "1  1986-03-14  0.1007   308160000\n",
            "2  1986-03-17  0.1024   133171200\n",
            "3  1986-03-18  0.0998    67766400\n",
            "4  1986-03-19  0.0981    47894400\n"
          ],
          "name": "stdout"
        }
      ]
    },
    {
      "cell_type": "markdown",
      "metadata": {
        "id": "hAa_H5dO6ZpJ"
      },
      "source": [
        "Alternatively, if there were some columns which we were just not interested in, we could `drop` those and leave the rest. Note: we need `axis=1` to tell Pandas to drop columns and not rows."
      ]
    },
    {
      "cell_type": "code",
      "metadata": {
        "id": "h1pmhT-z52rv",
        "outputId": "72896226-2c9c-4a94-c1c9-fdcb4fc12866",
        "colab": {
          "base_uri": "https://localhost:8080/"
        }
      },
      "source": [
        "df1 = pd.read_csv('MSFT.csv')\n",
        "df1 = df1.drop(['close'], axis=1)\n",
        "print(df1.head())"
      ],
      "execution_count": 59,
      "outputs": [
        {
          "output_type": "stream",
          "text": [
            "         date    open    high     low      volume\n",
            "0  1986-03-13  0.0885  0.1016  0.0885  1031788800\n",
            "1  1986-03-14  0.0972  0.1024  0.0972   308160000\n",
            "2  1986-03-17  0.1007  0.1033  0.1007   133171200\n",
            "3  1986-03-18  0.1024  0.1033  0.0990    67766400\n",
            "4  1986-03-19  0.0998  0.1007  0.0972    47894400\n"
          ],
          "name": "stdout"
        }
      ]
    },
    {
      "cell_type": "markdown",
      "metadata": {
        "id": "wRRiQo324wVI"
      },
      "source": [
        "#### Changing Data Types\n",
        "After collecting the data we want, we sometimes need to change the type of a column. A common example is converting `date` from `string` to `datetime`."
      ]
    },
    {
      "cell_type": "code",
      "metadata": {
        "id": "hBDEIHR44wVJ",
        "outputId": "cf14d537-220d-4ee3-b75c-6236034898bc",
        "colab": {
          "base_uri": "https://localhost:8080/"
        }
      },
      "source": [
        "df['date'] = pd.to_datetime(df['date']) # Convert 'date' column from string to datetime\n",
        "print(df['date'].head()) # Display the first few rows of the 'date' column"
      ],
      "execution_count": 60,
      "outputs": [
        {
          "output_type": "stream",
          "text": [
            "0   1986-03-13\n",
            "1   1986-03-14\n",
            "2   1986-03-17\n",
            "3   1986-03-18\n",
            "4   1986-03-19\n",
            "Name: date, dtype: datetime64[ns]\n"
          ],
          "name": "stdout"
        }
      ]
    },
    {
      "cell_type": "markdown",
      "metadata": {
        "id": "OQdI__lW4wVM"
      },
      "source": [
        "#### Renaming Columns\n",
        "We can easily rename our columns with `rename`. We supply a dictionary, mapping the old names to new ones."
      ]
    },
    {
      "cell_type": "code",
      "metadata": {
        "id": "iL8oCGBl4wVN",
        "outputId": "fa7f9dc3-5809-4202-d307-09137ecb1c44",
        "colab": {
          "base_uri": "https://localhost:8080/"
        }
      },
      "source": [
        "df = df.rename(columns={'date': 'Date', 'close': 'Closing Price', 'volume': 'Trading Volume'})\n",
        "print(df.head())"
      ],
      "execution_count": 61,
      "outputs": [
        {
          "output_type": "stream",
          "text": [
            "        Date  Closing Price  Trading Volume\n",
            "0 1986-03-13         0.0972      1031788800\n",
            "1 1986-03-14         0.1007       308160000\n",
            "2 1986-03-17         0.1024       133171200\n",
            "3 1986-03-18         0.0998        67766400\n",
            "4 1986-03-19         0.0981        47894400\n"
          ],
          "name": "stdout"
        }
      ]
    },
    {
      "cell_type": "markdown",
      "metadata": {
        "id": "Ajg6AiS74wVP"
      },
      "source": [
        "#### Changing Index\n",
        "Finally, we might want to relabel our index, by setting its values to be the `Date` column. This is useful if we frequently want to access rows by `Date`."
      ]
    },
    {
      "cell_type": "code",
      "metadata": {
        "id": "6dIbKUeH4wVQ",
        "outputId": "92863749-d0f4-42ff-a47e-44ca5ed9eb96",
        "colab": {
          "base_uri": "https://localhost:8080/"
        }
      },
      "source": [
        "df = df.set_index('Date')\n",
        "print(df.head())"
      ],
      "execution_count": 63,
      "outputs": [
        {
          "output_type": "stream",
          "text": [
            "            Closing Price  Trading Volume\n",
            "Date                                     \n",
            "1986-03-13         0.0972      1031788800\n",
            "1986-03-14         0.1007       308160000\n",
            "1986-03-17         0.1024       133171200\n",
            "1986-03-18         0.0998        67766400\n",
            "1986-03-19         0.0981        47894400\n"
          ],
          "name": "stdout"
        }
      ]
    },
    {
      "cell_type": "markdown",
      "metadata": {
        "id": "2bKgpSVP4wVS"
      },
      "source": [
        "Note, the new index is the old `Date` column, which has been removed. We can no longer access `Date` using `df['Date']` because it is no longer considered a column. We would instead access the index using `df.index`, `df.index.values`, or `df.index.values.tolist()`."
      ]
    },
    {
      "cell_type": "markdown",
      "metadata": {
        "id": "gnKao1k97xsP"
      },
      "source": [
        "**Challenge**: Reload the MSFT CSV into a variable called `df1`, then drop the open and volume columns from it, convert the date column to datetime, then use the date column as the index. **Important**: don't name the new dataframe `df`."
      ]
    },
    {
      "cell_type": "code",
      "metadata": {
        "id": "iIypAFWv7CUQ",
        "outputId": "4d85aba9-2446-4f68-ab89-e3108d3546c9",
        "colab": {
          "base_uri": "https://localhost:8080/"
        }
      },
      "source": [
        "df1 = pd.read_csv('MSFT.csv')\n",
        "df1 = df1.drop(['open', 'volume'], axis=1)\n",
        "df1['date'] = pd.to_datetime(df1['date'])\n",
        "df1 = df1.set_index('date')\n",
        "print(df1.head())"
      ],
      "execution_count": 75,
      "outputs": [
        {
          "output_type": "stream",
          "text": [
            "              high     low   close\n",
            "date                              \n",
            "1986-03-13  0.1016  0.0885  0.0972\n",
            "1986-03-14  0.1024  0.0972  0.1007\n",
            "1986-03-17  0.1033  0.1007  0.1024\n",
            "1986-03-18  0.1033  0.0990  0.0998\n",
            "1986-03-19  0.1007  0.0972  0.0981\n"
          ],
          "name": "stdout"
        }
      ]
    },
    {
      "cell_type": "markdown",
      "metadata": {
        "id": "DbQonLlj4wVS"
      },
      "source": [
        "### Sorting Data\n",
        "\n",
        "Finally, we might want to sort our data by one or more columns. Lets say we want to sort the data in increasing order by `volume`.\n",
        "\n",
        "We use the syntax `df-name.sort_values()` which takes the parameters:\n",
        " - `by=`: The column name or column list to sort by\n",
        " - `ascending=`: Whether you want to sort in increasing (True) or decreasing (False) order"
      ]
    },
    {
      "cell_type": "code",
      "metadata": {
        "id": "-ABHGhjK4wVT",
        "outputId": "550861e8-e481-4f4a-a7a0-0b3f1d1af26c",
        "colab": {
          "base_uri": "https://localhost:8080/"
        }
      },
      "source": [
        "msft = pd.read_csv('MSFT.csv')\n",
        "msft = msft.sort_values(by='volume', ascending=True)\n",
        "print(msft)"
      ],
      "execution_count": 64,
      "outputs": [
        {
          "output_type": "stream",
          "text": [
            "            date     open     high      low    close      volume\n",
            "62    1986-06-11   0.1137   0.1137   0.1120   0.1137     2304000\n",
            "137   1986-09-26   0.1007   0.1016   0.0998   0.1007     2332800\n",
            "114   1986-08-25   0.1024   0.1024   0.1007   0.1024     2419200\n",
            "132   1986-09-19   0.1033   0.1042   0.1024   0.1033     2505600\n",
            "100   1986-08-05   0.0981   0.0990   0.0972   0.0972     2822400\n",
            "...          ...      ...      ...      ...      ...         ...\n",
            "851   1989-07-25   0.3819   0.3958   0.3576   0.3611   326028816\n",
            "5078  2006-04-28  24.2600  24.5000  24.0000  24.1500   591052200\n",
            "2081  1994-06-06   3.2894   3.4144   3.2344   3.4063   764504000\n",
            "754   1989-03-07   0.4149   0.4167   0.3698   0.3715   788688000\n",
            "0     1986-03-13   0.0885   0.1016   0.0885   0.0972  1031788800\n",
            "\n",
            "[8634 rows x 6 columns]\n"
          ],
          "name": "stdout"
        }
      ]
    },
    {
      "cell_type": "markdown",
      "metadata": {
        "id": "vVC4JoxU4wVV"
      },
      "source": [
        "If we wanted to sort by multiple columns, we pass a list into the `by=` parameter. For example, to sort by `volume` and then `close`, we would do `msft.sort_values(by=['volume', 'close'], ascending=True)`."
      ]
    },
    {
      "cell_type": "markdown",
      "metadata": {
        "id": "7kPWMg6M4wVV"
      },
      "source": [
        "## 2B: Combining DataFrames"
      ]
    },
    {
      "cell_type": "markdown",
      "metadata": {
        "id": "jBtTJlkl4wVW"
      },
      "source": [
        "Sometimes, data is scattered across multiple DataFrames. In that case, we need to be able to join DataFrames together. There are several ways to do this in Pandas, but this tutorial will cover `merge`. Suppose we have the following two DataFrames."
      ]
    },
    {
      "cell_type": "code",
      "metadata": {
        "id": "bazynedD4wVW",
        "outputId": "dd9aedf3-ccf4-4070-aa1c-9585ce94bafe",
        "colab": {
          "base_uri": "https://localhost:8080/"
        }
      },
      "source": [
        "classes = pd.DataFrame({\n",
        "    'class': [1,2,3,4,5],\n",
        "    'teacher': ['Bill Ryan', 'Sue Kim', 'Arun Gupta', 'Darnell Williams', 'Emily Coles'],\n",
        "})\n",
        "\n",
        "teachers = pd.DataFrame({\n",
        "    'teacher': ['Sue Kim', 'Arun Gupta', 'Emily Coles', 'Darnell Williams', 'Ben Smith', 'Nicole Ang'],\n",
        "    'age': [43, 56, 32, 44, 32, 53],\n",
        "    'experience': [4, 5, 2, 6, 1, 4],\n",
        "})\n",
        "\n",
        "print(\"Classes\")\n",
        "print(classes)\n",
        "print(\"\\nTeachers\")\n",
        "print(teachers)"
      ],
      "execution_count": 65,
      "outputs": [
        {
          "output_type": "stream",
          "text": [
            "Classes\n",
            "   class           teacher\n",
            "0      1         Bill Ryan\n",
            "1      2           Sue Kim\n",
            "2      3        Arun Gupta\n",
            "3      4  Darnell Williams\n",
            "4      5       Emily Coles\n",
            "\n",
            "Teachers\n",
            "            teacher  age  experience\n",
            "0           Sue Kim   43           4\n",
            "1        Arun Gupta   56           5\n",
            "2       Emily Coles   32           2\n",
            "3  Darnell Williams   44           6\n",
            "4         Ben Smith   32           1\n",
            "5        Nicole Ang   53           4\n"
          ],
          "name": "stdout"
        }
      ]
    },
    {
      "cell_type": "markdown",
      "metadata": {
        "id": "VJzoF5Zy4wVZ"
      },
      "source": [
        "The `classes` DataFrame contains information about 5 classes and the teachers that teach them. The `teachers` DataFrame contains information about each teacher: their age, and years of experience. We want to obtain one DataFrame, with information about class, teacher, age, and experience. There are four ways to do this. \n",
        "\n",
        "When joining DataFrames, we visualize the operation as adding the *right* DataFrame to the *left* one. We join based on a column that contains the same data between the two DataFrames. In this case, the shared piece of data is the teacher.\n",
        "\n",
        "The syntax is `left_df.merge(right_df, on='', how='')`.\n",
        " - `on=''`: Replace the quotes with the common column between the two DataFrames\n",
        " - `how=''`: Replace the quotes with the type of join: `'left'`, `'right'`, `'outer'`, `'inner'`."
      ]
    },
    {
      "cell_type": "markdown",
      "metadata": {
        "id": "ZeOlZNHn4wVa"
      },
      "source": [
        "### Left Join\n",
        "\n",
        "A *left join* keeps all the rows in the left DataFrame, and adds entries from the right DataFrame where the `on` column matches."
      ]
    },
    {
      "cell_type": "code",
      "metadata": {
        "id": "uM7-w6PC4wVa",
        "outputId": "e3251b59-6047-45f4-f6a0-3d793912b42d",
        "colab": {
          "base_uri": "https://localhost:8080/"
        }
      },
      "source": [
        "combined = classes.merge(teachers, on='teacher', how='left')\n",
        "print(combined)"
      ],
      "execution_count": 66,
      "outputs": [
        {
          "output_type": "stream",
          "text": [
            "   class           teacher   age  experience\n",
            "0      1         Bill Ryan   NaN         NaN\n",
            "1      2           Sue Kim  43.0         4.0\n",
            "2      3        Arun Gupta  56.0         5.0\n",
            "3      4  Darnell Williams  44.0         6.0\n",
            "4      5       Emily Coles  32.0         2.0\n"
          ],
          "name": "stdout"
        }
      ]
    },
    {
      "cell_type": "markdown",
      "metadata": {
        "id": "Px7rHIwH4wVh"
      },
      "source": [
        "The ages and experience for Sue, Arun, Darnell, and Emily have been added to the left DataFrame. Bill Ryan remains because he was in the left DataFrame, but does not have an age or experience because he is not present in the right DataFrame."
      ]
    },
    {
      "cell_type": "markdown",
      "metadata": {
        "id": "BjW-D_iQ4wVi"
      },
      "source": [
        "### Right Join\n",
        "\n",
        "A *right join* keeps all the rows in the right DataFrame, and adds entries from the left DataFrame where the `on` column matches."
      ]
    },
    {
      "cell_type": "code",
      "metadata": {
        "id": "bGrsJrOD4wVi",
        "outputId": "7ef585df-28c3-427d-a279-a61b26e39044",
        "colab": {
          "base_uri": "https://localhost:8080/"
        }
      },
      "source": [
        "combined = classes.merge(teachers, on='teacher', how='right')\n",
        "print(combined)"
      ],
      "execution_count": 67,
      "outputs": [
        {
          "output_type": "stream",
          "text": [
            "   class           teacher  age  experience\n",
            "0    2.0           Sue Kim   43           4\n",
            "1    3.0        Arun Gupta   56           5\n",
            "2    5.0       Emily Coles   32           2\n",
            "3    4.0  Darnell Williams   44           6\n",
            "4    NaN         Ben Smith   32           1\n",
            "5    NaN        Nicole Ang   53           4\n"
          ],
          "name": "stdout"
        }
      ]
    },
    {
      "cell_type": "markdown",
      "metadata": {
        "id": "n-o10aIt4wVl"
      },
      "source": [
        "As before, the ages and experience for Sue, Arun, Darnell, and Emily have been added. Bill Ryan was not in the right DataFrame, so his name is not present, and his class has disappeared as well. Ben Smith and Nicole Ang were present in the right DataFrame, so they are included, but they do not have an associated class."
      ]
    },
    {
      "cell_type": "markdown",
      "metadata": {
        "id": "lYNvFg2E4wVl"
      },
      "source": [
        "### Inner Join\n",
        "\n",
        "An *inner join* keeps all the rows where the `on` column matches - in other words, where the `teacher` is present in both DataFrames."
      ]
    },
    {
      "cell_type": "code",
      "metadata": {
        "id": "E4xjOA9k4wVl",
        "outputId": "74c02c59-61e5-46b1-8b95-faa39b6f0b3a",
        "colab": {
          "base_uri": "https://localhost:8080/"
        }
      },
      "source": [
        "combined = classes.merge(teachers, on='teacher', how='inner')\n",
        "print(combined)"
      ],
      "execution_count": 68,
      "outputs": [
        {
          "output_type": "stream",
          "text": [
            "   class           teacher  age  experience\n",
            "0      2           Sue Kim   43           4\n",
            "1      3        Arun Gupta   56           5\n",
            "2      4  Darnell Williams   44           6\n",
            "3      5       Emily Coles   32           2\n"
          ],
          "name": "stdout"
        }
      ]
    },
    {
      "cell_type": "markdown",
      "metadata": {
        "id": "ophoP50c4wVn"
      },
      "source": [
        "The ages and experience for Sue, Arun, Darnell, and Emily are included because they are present in both DataFrames. Bill Ryan is only present in the left DataFrame, so he is not included. Ben Smith and Nicole Ang are only present in the right DataFrame, so they are not included."
      ]
    },
    {
      "cell_type": "markdown",
      "metadata": {
        "id": "rperCXgY4wVo"
      },
      "source": [
        "### Outer Join\n",
        "\n",
        "An *outer join* keeps all entries from both DataFrames. Where values don't exist, it fills the cell with `NaN`."
      ]
    },
    {
      "cell_type": "code",
      "metadata": {
        "id": "4C1eh1hH4wVo",
        "outputId": "5982773d-8e70-4f4f-fbda-2436a0cdcdf9",
        "colab": {
          "base_uri": "https://localhost:8080/"
        }
      },
      "source": [
        "combined = classes.merge(teachers, on='teacher', how='outer')\n",
        "print(combined)"
      ],
      "execution_count": 69,
      "outputs": [
        {
          "output_type": "stream",
          "text": [
            "   class           teacher   age  experience\n",
            "0    1.0         Bill Ryan   NaN         NaN\n",
            "1    2.0           Sue Kim  43.0         4.0\n",
            "2    3.0        Arun Gupta  56.0         5.0\n",
            "3    4.0  Darnell Williams  44.0         6.0\n",
            "4    5.0       Emily Coles  32.0         2.0\n",
            "5    NaN         Ben Smith  32.0         1.0\n",
            "6    NaN        Nicole Ang  53.0         4.0\n"
          ],
          "name": "stdout"
        }
      ]
    },
    {
      "cell_type": "markdown",
      "metadata": {
        "id": "UgdhN62v4wVr"
      },
      "source": [
        "Every teacher is included in this combination. If they don't have an age or experience (Bill Ryan) it is filled with NaN. If they don't have a class (Ben Smith, Nicole Ang), it is filled with NaN. Try and think about which types of joins would be useful in different scenarios."
      ]
    },
    {
      "cell_type": "markdown",
      "metadata": {
        "id": "NxBYStR_4wVr"
      },
      "source": [
        "## 2C: Grouping Data\n",
        "\n",
        "Finally, if we have a large DataFrame, we might be interested organizing the data into groups. We can do this easily using `groupby`. In the following example, we create dataframes for Microsoft, Apple, Amazon, and Google stock prices. Then we `append` them together into one large DataFrame. "
      ]
    },
    {
      "cell_type": "code",
      "metadata": {
        "id": "dZ8itFLF4wVr",
        "outputId": "706b835a-7230-4be6-8a4b-f56c72911553",
        "colab": {
          "base_uri": "https://localhost:8080/"
        }
      },
      "source": [
        "stock_names = ['MSFT', 'AAPL', 'AMZN', 'GOOG']\n",
        "\n",
        "df = pd.DataFrame()\n",
        "for stock_name in stock_names:\n",
        "  stock_df = pd.read_csv(f'{stock_name}.csv')\n",
        "  stock_df['name'] = stock_name\n",
        "  df = df.append(stock_df)\n",
        "\n",
        "print(df)"
      ],
      "execution_count": 82,
      "outputs": [
        {
          "output_type": "stream",
          "text": [
            "            date       open       high        low      close      volume  name\n",
            "0     1986-03-13     0.0885     0.1016     0.0885     0.0972  1031788800  MSFT\n",
            "1     1986-03-14     0.0972     0.1024     0.0972     0.1007   308160000  MSFT\n",
            "2     1986-03-17     0.1007     0.1033     0.1007     0.1024   133171200  MSFT\n",
            "3     1986-03-18     0.1024     0.1033     0.0990     0.0998    67766400  MSFT\n",
            "4     1986-03-19     0.0998     0.1007     0.0972     0.0981    47894400  MSFT\n",
            "...          ...        ...        ...        ...        ...         ...   ...\n",
            "1560  2020-06-08  1422.3400  1447.9900  1422.3400  1446.6100     1401827  GOOG\n",
            "1561  2020-06-09  1445.3600  1468.0000  1443.2100  1456.1600     1409249  GOOG\n",
            "1562  2020-06-10  1459.5400  1474.2600  1456.2700  1465.8500     1521378  GOOG\n",
            "1563  2020-06-11  1442.4800  1454.4700  1402.0000  1403.8400     1983710  GOOG\n",
            "1564  2020-06-12  1428.4900  1437.0000  1386.0200  1413.1800     1946367  GOOG\n",
            "\n",
            "[25965 rows x 7 columns]\n"
          ],
          "name": "stdout"
        }
      ]
    },
    {
      "cell_type": "markdown",
      "metadata": {
        "id": "sK2ejCMQ4wVu"
      },
      "source": [
        "Let's say `df` was the only DataFrame we had. Without knowing where each stock's price data begins and ends, there is no way to separate data by stock (the `name` column). Instead, we use `groupby` to create an object that stores the grouped DataFrames. Here, we want to group the rows in the DataFrame by `name`."
      ]
    },
    {
      "cell_type": "code",
      "metadata": {
        "id": "a2lFlgSl4wVv",
        "outputId": "73433943-1f53-4edc-952b-d6cad0c65d55",
        "colab": {
          "base_uri": "https://localhost:8080/"
        }
      },
      "source": [
        "groups = df.groupby('name') # Creates a grouping of the DataFrame by column 'name'\n",
        "print(groups)"
      ],
      "execution_count": 83,
      "outputs": [
        {
          "output_type": "stream",
          "text": [
            "<pandas.core.groupby.generic.DataFrameGroupBy object at 0x7faafeaa0b00>\n"
          ],
          "name": "stdout"
        }
      ]
    },
    {
      "cell_type": "markdown",
      "metadata": {
        "id": "SB3BXI464wVx"
      },
      "source": [
        "We cannot display `groups` directly, because it is not a DataFrame. Instead, we can access specific groups stored in `groups`. The following code gets all the rows in the group `'MSFT'`, returns them as a DataFrame, and stores them in the variable `msft_data`. The resulting DataFrame contains price information for only Microsoft's stock."
      ]
    },
    {
      "cell_type": "code",
      "metadata": {
        "id": "VhApmHoh4wVy",
        "outputId": "8ed51a9e-c0d3-4cbb-e01f-e9c73160f851",
        "colab": {
          "base_uri": "https://localhost:8080/"
        }
      },
      "source": [
        "msft_data = groups.get_group('MSFT')\n",
        "print(msft_data)"
      ],
      "execution_count": 84,
      "outputs": [
        {
          "output_type": "stream",
          "text": [
            "            date      open      high       low     close      volume  name\n",
            "0     1986-03-13    0.0885    0.1016    0.0885    0.0972  1031788800  MSFT\n",
            "1     1986-03-14    0.0972    0.1024    0.0972    0.1007   308160000  MSFT\n",
            "2     1986-03-17    0.1007    0.1033    0.1007    0.1024   133171200  MSFT\n",
            "3     1986-03-18    0.1024    0.1033    0.0990    0.0998    67766400  MSFT\n",
            "4     1986-03-19    0.0998    0.1007    0.0972    0.0981    47894400  MSFT\n",
            "...          ...       ...       ...       ...       ...         ...   ...\n",
            "8629  2020-06-08  185.9400  188.5500  184.4400  188.3600    33123035  MSFT\n",
            "8630  2020-06-09  188.0000  190.7000  187.2605  189.8000    29783916  MSFT\n",
            "8631  2020-06-10  191.1250  198.5200  191.0100  196.8400    43568260  MSFT\n",
            "8632  2020-06-11  193.1300  195.7600  186.0700  186.2700    52645278  MSFT\n",
            "8633  2020-06-12  190.5400  191.7200  185.1800  187.7400    43373587  MSFT\n",
            "\n",
            "[8634 rows x 7 columns]\n"
          ],
          "name": "stdout"
        }
      ]
    },
    {
      "cell_type": "markdown",
      "metadata": {
        "id": "Qyva2htE4wV0"
      },
      "source": [
        "To practice, try getting the data for Apple, Google, and Amazon from `groups`. We don't have to group by `name`, but we can also group by other columns as well. For example, if we wanted to compare data across all stocks on a given date, we could `groupby('date')`."
      ]
    },
    {
      "cell_type": "code",
      "metadata": {
        "id": "eHj9vTWg4wV1"
      },
      "source": [
        "dates_groups = df.groupby('date') # A grouping of the DataFrame by date"
      ],
      "execution_count": 85,
      "outputs": []
    },
    {
      "cell_type": "markdown",
      "metadata": {
        "id": "eC-79x234wV4"
      },
      "source": [
        "To view the stock prices on a given day (for example January 3, 2018), we can `get_group` for the day we are interested in."
      ]
    },
    {
      "cell_type": "code",
      "metadata": {
        "id": "gt_Yl8qR4wV4",
        "outputId": "c048eb04-396b-4c55-e29c-5cbdaf620278",
        "colab": {
          "base_uri": "https://localhost:8080/"
        }
      },
      "source": [
        "target_data = dates_groups.get_group('2018-01-03')\n",
        "print(target_data)"
      ],
      "execution_count": 86,
      "outputs": [
        {
          "output_type": "stream",
          "text": [
            "            date      open     high      low    close    volume  name\n",
            "8019  2018-01-03    86.055    86.51    85.97    86.35  26061439  MSFT\n",
            "9344  2018-01-03   172.530   174.55   171.96   172.23  29517899  AAPL\n",
            "5192  2018-01-03  1188.300  1205.49  1188.30  1204.20   3108793  AMZN\n",
            "950   2018-01-03  1064.310  1086.29  1063.21  1082.48   1430170  GOOG\n"
          ],
          "name": "stdout"
        }
      ]
    },
    {
      "cell_type": "markdown",
      "metadata": {
        "id": "YO_UeB9l4wV8"
      },
      "source": [
        "**Challenge**: Find the most common volume amount across all four stocks using `groupby`, then print the rows in the dataframe with that volume using `get_group`."
      ]
    },
    {
      "cell_type": "code",
      "metadata": {
        "id": "xaJ57C1O4wV8",
        "outputId": "8731deab-28ee-4114-91de-b86be598b178",
        "colab": {
          "base_uri": "https://localhost:8080/"
        }
      },
      "source": [
        "t = df.groupby('volume')\n",
        "# Sort based on the number of values in each group\n",
        "most_common = max(t.groups.items(), key=lambda item: len(item[1]))\n",
        "print(most_common)\n",
        "print(t.get_group(most_common[0]))"
      ],
      "execution_count": 103,
      "outputs": [
        {
          "output_type": "stream",
          "text": [
            "(61600000, Int64Index([5956, 1419, 1454, 1489, 1550, 1579, 1584, 1748], dtype='int64'))\n",
            "            date     open     high      low    close    volume  name\n",
            "5956  2009-10-22  26.5600  26.7200  26.1300  26.5900  61600000  MSFT\n",
            "1419  1986-07-28   0.6050   0.6071   0.5759   0.5782  61600000  AAPL\n",
            "1454  1986-09-16   0.5916   0.6273   0.5804   0.6229  61600000  AAPL\n",
            "1489  1986-11-04   0.6229   0.6407   0.6050   0.6384  61600000  AAPL\n",
            "1550  1987-02-02   0.9911   1.0000   0.9688   0.9979  61600000  AAPL\n",
            "1579  1987-03-16   1.1339   1.1652   1.1161   1.1652  61600000  AAPL\n",
            "1584  1987-03-23   1.2143   1.2188   1.1830   1.2054  61600000  AAPL\n",
            "1748  1987-11-12   1.3750   1.4286   1.3707   1.3839  61600000  AAPL\n"
          ],
          "name": "stdout"
        }
      ]
    }
  ]
}